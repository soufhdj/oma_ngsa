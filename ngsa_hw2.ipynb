{
 "cells": [
  {
   "cell_type": "code",
   "execution_count": 2,
   "metadata": {},
   "outputs": [
    {
     "name": "stderr",
     "output_type": "stream",
     "text": [
      "/Users/soufianehadji/anaconda3/lib/python3.6/site-packages/statsmodels/compat/pandas.py:56: FutureWarning: The pandas.core.datetools module is deprecated and will be removed in a future version. Please use the pandas.tseries module instead.\n",
      "  from pandas.core import datetools\n"
     ]
    }
   ],
   "source": [
    "from os import listdir\n",
    "from os.path import isfile, join\n",
    "\n",
    "import random\n",
    "import numpy as np\n",
    "import pandas as pd\n",
    "import csv\n",
    "import matplotlib.pyplot as plt\n",
    "import tqdm as tqdm\n",
    "import pickle\n",
    "\n",
    "import igraph\n",
    "import networkx as nx\n",
    "\n",
    "from sklearn import svm\n",
    "from sklearn.feature_extraction.text import TfidfVectorizer\n",
    "from sklearn.metrics.pairwise import linear_kernel\n",
    "from sklearn import preprocessing\n",
    "import nltk\n",
    "\n",
    "# Embedding\n",
    "from gensim.scripts.glove2word2vec import glove2word2vec\n",
    "\n",
    "import statsmodels.api as sm\n",
    "\n",
    "import xgboost as xgb\n",
    "from xgboost import XGBClassifier\n",
    "from xgboost import plot_importance\n",
    "\n",
    "from sklearn.linear_model import LogisticRegression\n",
    "from sklearn.model_selection import train_test_split\n",
    "from sklearn.ensemble import RandomForestClassifier\n",
    "from sklearn.model_selection import cross_val_score"
   ]
  },
  {
   "cell_type": "code",
   "execution_count": 3,
   "metadata": {},
   "outputs": [
    {
     "name": "stdout",
     "output_type": "stream",
     "text": [
      "[nltk_data] Downloading package punkt to\n",
      "[nltk_data]     /Users/soufianehadji/nltk_data...\n",
      "[nltk_data]   Package punkt is already up-to-date!\n",
      "[nltk_data] Downloading package stopwords to\n",
      "[nltk_data]     /Users/soufianehadji/nltk_data...\n",
      "[nltk_data]   Package stopwords is already up-to-date!\n"
     ]
    }
   ],
   "source": [
    "nltk.download('punkt') # for tokenization\n",
    "nltk.download('stopwords')\n",
    "stpwds = set(nltk.corpus.stopwords.words(\"english\"))\n",
    "stemmer = nltk.stem.PorterStemmer()"
   ]
  },
  {
   "cell_type": "markdown",
   "metadata": {},
   "source": [
    "### Read train set"
   ]
  },
  {
   "cell_type": "code",
   "execution_count": 4,
   "metadata": {},
   "outputs": [
    {
     "data": {
      "text/plain": [
       "[['9510123', '9502114', '1'], ['9707075', '9604178', '1']]"
      ]
     },
     "execution_count": 4,
     "metadata": {},
     "output_type": "execute_result"
    }
   ],
   "source": [
    "with open(\"training_set.txt\", \"r\") as f:\n",
    "    reader = csv.reader(f)\n",
    "    training_set  = list(reader)\n",
    "\n",
    "training_set = [element[0].split(\" \") for element in training_set]\n",
    "training_set[:2]"
   ]
  },
  {
   "cell_type": "code",
   "execution_count": 5,
   "metadata": {
    "collapsed": true
   },
   "outputs": [],
   "source": [
    "edges = [(element[0], element[1]) for element in training_set if element[2]==\"1\"]"
   ]
  },
  {
   "cell_type": "markdown",
   "metadata": {},
   "source": [
    "### Labels into integers then into column array"
   ]
  },
  {
   "cell_type": "code",
   "execution_count": 6,
   "metadata": {},
   "outputs": [
    {
     "data": {
      "text/plain": [
       "array([1, 1, 0, ..., 0, 1, 1])"
      ]
     },
     "execution_count": 6,
     "metadata": {},
     "output_type": "execute_result"
    }
   ],
   "source": [
    "labels = [int(element[2]) for element in training_set]\n",
    "labels = list(labels)\n",
    "labels_array = np.array(labels)\n",
    "labels_array"
   ]
  },
  {
   "cell_type": "markdown",
   "metadata": {},
   "source": [
    "### Read Nodes information"
   ]
  },
  {
   "cell_type": "code",
   "execution_count": 7,
   "metadata": {
    "collapsed": true
   },
   "outputs": [],
   "source": [
    "with open(\"node_information.csv\", \"r\") as f:\n",
    "    reader = csv.reader(f)\n",
    "    node_info  = list(reader)\n",
    "\n",
    "IDs = [element[0] for element in node_info]\n",
    "nodes = IDs"
   ]
  },
  {
   "cell_type": "markdown",
   "metadata": {},
   "source": [
    "### Read test set"
   ]
  },
  {
   "cell_type": "code",
   "execution_count": 8,
   "metadata": {},
   "outputs": [
    {
     "data": {
      "text/plain": [
       "[['9807076', '9807139'], ['109162', '1182']]"
      ]
     },
     "execution_count": 8,
     "metadata": {},
     "output_type": "execute_result"
    }
   ],
   "source": [
    "with open(\"testing_set.txt\", \"r\") as f:\n",
    "    reader = csv.reader(f)\n",
    "    testing_set  = list(reader)\n",
    "\n",
    "testing_set = [element[0].split(\" \") for element in testing_set]\n",
    "testing_set[: 2]"
   ]
  },
  {
   "cell_type": "markdown",
   "metadata": {},
   "source": [
    "### Random guess"
   ]
  },
  {
   "cell_type": "code",
   "execution_count": 15,
   "metadata": {
    "collapsed": true
   },
   "outputs": [],
   "source": [
    "# random_predictions = np.random.choice([0, 1], size=len(testing_set))\n",
    "# random_predictions = zip(range(len(testing_set)),random_predictions)\n",
    "\n",
    "# with open(\"random_predictions.csv\", \"w\", newline='') as pred:\n",
    "#     csv_out = csv.writer(pred)\n",
    "#     csv_out.writerow(['ID', \"category\"])\n",
    "#     for row in random_predictions:\n",
    "#         csv_out.writerow(row)"
   ]
  },
  {
   "cell_type": "code",
   "execution_count": 8,
   "metadata": {},
   "outputs": [
    {
     "data": {
      "text/plain": [
       "<1x25043 sparse matrix of type '<class 'numpy.float64'>'\n",
       "\twith 18 stored elements in Compressed Sparse Row format>"
      ]
     },
     "execution_count": 8,
     "metadata": {},
     "output_type": "execute_result"
    }
   ],
   "source": [
    "# compute TFIDF vector of each paper\n",
    "corpus = [element[5] for element in node_info]\n",
    "vectorizer = TfidfVectorizer(stop_words=\"english\")\n",
    "# each row is a node in the order of node_info\n",
    "features_TFIDF = vectorizer.fit_transform(corpus)\n",
    "features_TFIDF[5]"
   ]
  },
  {
   "cell_type": "markdown",
   "metadata": {},
   "source": [
    "## Create Graph"
   ]
  },
  {
   "cell_type": "code",
   "execution_count": 9,
   "metadata": {
    "collapsed": true
   },
   "outputs": [],
   "source": [
    "# Directed Graph creation\n",
    "nx_dg = nx.DiGraph()\n",
    "nx_dg.add_nodes_from(nodes)\n",
    "nx_dg.add_edges_from(edges)\n",
    "\n",
    "# Undirected Graph creation\n",
    "nx_g = nx.Graph()\n",
    "nx_g.add_nodes_from(nodes)\n",
    "nx_g.add_edges_from(edges)\n"
   ]
  },
  {
   "cell_type": "markdown",
   "metadata": {},
   "source": [
    "## Reduce train set"
   ]
  },
  {
   "cell_type": "markdown",
   "metadata": {},
   "source": [
    "#### randomly select 5% of training set"
   ]
  },
  {
   "cell_type": "markdown",
   "metadata": {},
   "source": [
    "for each training example we need to compute features in this baseline we will train the model on only 5% of the training set"
   ]
  },
  {
   "cell_type": "code",
   "execution_count": 10,
   "metadata": {
    "collapsed": true
   },
   "outputs": [],
   "source": [
    "# randomly select 5% of training set\n",
    "to_keep = random.sample(range(len(training_set)), k=int(round(len(training_set)*0.05)))\n",
    "training_set_reduced = [training_set[i] for i in to_keep]"
   ]
  },
  {
   "cell_type": "code",
   "execution_count": 14,
   "metadata": {},
   "outputs": [],
   "source": [
    "def binary_save(file, path, file_name):\n",
    "    \"\"\"Save in binary the Tenders\"\"\"\n",
    "    with open(path + '\\\\' + file_name, 'wb') as fichier:\n",
    "        mon_pickler = pickle.Pickler(fichier)\n",
    "        mon_pickler.dump(file)\n",
    "\n",
    "binary_save(training_set_reduced, r\"\", \"reduced_set\")"
   ]
  },
  {
   "cell_type": "code",
   "execution_count": 15,
   "metadata": {
    "collapsed": true
   },
   "outputs": [],
   "source": [
    "def binary_load(path, file_name):\n",
    "    \"\"\"Allows to load pickles\"\"\"\n",
    "    with open(path + '\\\\' + file_name, 'rb') as fichier:\n",
    "        mon_depickler = pickle.Unpickler(fichier)\n",
    "        a_memoriser = mon_depickler.load()\n",
    "    return a_memoriser\n",
    "\n",
    "training_set_reduced = binary_load(r\"\", \"reduced_set\")"
   ]
  },
  {
   "cell_type": "markdown",
   "metadata": {},
   "source": [
    "## Features extraction"
   ]
  },
  {
   "cell_type": "code",
   "execution_count": 75,
   "metadata": {},
   "outputs": [
    {
     "name": "stdout",
     "output_type": "stream",
     "text": [
      "1 training examples processsed\n",
      "1001 training examples processsed\n",
      "2001 training examples processsed\n",
      "3001 training examples processsed\n",
      "4001 training examples processsed\n",
      "5001 training examples processsed\n",
      "6001 training examples processsed\n",
      "7001 training examples processsed\n",
      "8001 training examples processsed\n",
      "9001 training examples processsed\n",
      "10001 training examples processsed\n",
      "11001 training examples processsed\n",
      "12001 training examples processsed\n",
      "13001 training examples processsed\n",
      "14001 training examples processsed\n",
      "15001 training examples processsed\n",
      "16001 training examples processsed\n",
      "17001 training examples processsed\n",
      "18001 training examples processsed\n",
      "19001 training examples processsed\n",
      "20001 training examples processsed\n",
      "21001 training examples processsed\n",
      "22001 training examples processsed\n",
      "23001 training examples processsed\n",
      "24001 training examples processsed\n",
      "25001 training examples processsed\n",
      "26001 training examples processsed\n",
      "27001 training examples processsed\n",
      "28001 training examples processsed\n",
      "29001 training examples processsed\n",
      "30001 training examples processsed\n"
     ]
    }
   ],
   "source": [
    "# Features extraction\n",
    "\n",
    "# number of overlapping words in title\n",
    "overlap_title = []\n",
    "\n",
    "# temporal distance between the papers\n",
    "temp_diff = []\n",
    "\n",
    "# number of common authors\n",
    "comm_auth = []\n",
    "\n",
    "# number of common words in description\n",
    "overlap_desc = []\n",
    "\n",
    "# number of authors\n",
    "number_author_source = []\n",
    "number_author_target = []\n",
    "\n",
    "# Difference between number of words [Title]\n",
    "title_diff_count = []\n",
    "\n",
    "# Difference between number of words [Description]\n",
    "desc_diff_count = []\n",
    "\n",
    "# Difference number of characters [Description]\n",
    "desc_diff_charac_count = []\n",
    "\n",
    "# Difference Average Word Length [Description]\n",
    "desc_diff_average_lenght = []\n",
    "\n",
    "# Difference Average Word Length [Title]\n",
    "title_diff_average_lenght = []\n",
    "\n",
    "# Difference number of stop words [Description]\n",
    "desc_diff_stop_words = []\n",
    "\n",
    "### Directed Graph ###\n",
    "# In-degree for x\n",
    "in_degree_x = []\n",
    "\n",
    "# In-degree for y\n",
    "in_degree_y = []\n",
    "\n",
    "# Out-degree for x\n",
    "out_degree_x = []\n",
    "\n",
    "# Out-degree for y\n",
    "out_degree_y = []\n",
    "\n",
    "# Common neighbors\n",
    "comm_successors = []\n",
    "\n",
    "# Common predecessors\n",
    "comm_predecessors = []\n",
    "\n",
    "# page rank x\n",
    "page_rank_x = []  # TODO\n",
    "\n",
    "# page rank y\n",
    "page_rank_y = []  # TODO\n",
    "\n",
    "### Undirected Graph ###\n",
    "# Preferential Attachment\n",
    "pref_attachment = []\n",
    "\n",
    "# Jaccard Coefficients\n",
    "jaccard_coefficients = []\n",
    "\n",
    "# adamic adar indexes\n",
    "adamic_adar_indexes = []\n",
    "\n",
    "\n",
    "counter = 0\n",
    "for i in range(len(training_set_reduced)):   #len(training_set_reduced)\n",
    "    source = training_set_reduced[i][0]\n",
    "    target = training_set_reduced[i][1]\n",
    "    \n",
    "    # Graph features\n",
    "    \n",
    "    # Directed graph\n",
    "    source_suc = nx_dg.successors(source)\n",
    "    target_suc = nx_dg.successors(target)\n",
    "    \n",
    "    source_pred = nx_dg.predecessors(source)\n",
    "    target_pred = nx_dg.predecessors(target)\n",
    "    \n",
    "    comm_successors.append(len(set(source_suc).intersection(set(target_suc))))\n",
    "    comm_predecessors.append(len(set(source_pred).intersection(set(target_pred))))\n",
    "    \n",
    "    in_degree_x.append(nx_dg.in_degree(source))\n",
    "    in_degree_y.append(nx_dg.in_degree(target))\n",
    "    \n",
    "    out_degree_x.append(nx_dg.out_degree(source))\n",
    "    out_degree_y.append(nx_dg.out_degree(target))\n",
    "    \n",
    "    \n",
    "    # Undirected graph\n",
    "    \n",
    "    aai = nx.adamic_adar_index(nx_g, ebunch=[(source, target)])\n",
    "    pa = nx.preferential_attachment(nx_g, ebunch=[(source, target)])\n",
    "    jc = nx.jaccard_coefficient(nx_g, ebunch=[(source, target)])\n",
    "    \n",
    "    for u, v, p in aai:\n",
    "        adamic_adar_indexes.append(p)\n",
    "    for u, v, p in pa:\n",
    "        pref_attachment.append(p)\n",
    "    for u, v, p in jc:\n",
    "        jaccard_coefficients.append(p)\n",
    "    \n",
    "    \n",
    "    ### NLP features ###\n",
    "    \n",
    "    index_source = IDs.index(source)\n",
    "    index_target = IDs.index(target)\n",
    "    \n",
    "    source_info = [element for element in node_info if element[0]==source][0]\n",
    "    target_info = [element for element in node_info if element[0]==target][0]\n",
    "    \n",
    "    # convert to lowercase and tokenize [Title]\n",
    "    source_title = source_info[2].lower().split(\" \")\n",
    "    # remove stopwords\n",
    "    source_title = [token for token in source_title if token not in stpwds]\n",
    "    source_title = [stemmer.stem(token) for token in source_title]\n",
    "    \n",
    "    target_title = target_info[2].lower().split(\" \")\n",
    "    target_title = [token for token in target_title if token not in stpwds]\n",
    "    target_title = [stemmer.stem(token) for token in target_title]\n",
    "    \n",
    "    # convert to lowercase and tokenize [Description]\n",
    "    source_desc = source_info[5].lower().split(\" \")\n",
    "    # remove stopwords\n",
    "    source_desc_stop_words =  [token for token in source_desc if token in stpwds]\n",
    "    source_desc = [token for token in source_desc if token not in stpwds]\n",
    "    source_desc = [stemmer.stem(token) for token in source_desc]\n",
    "    \n",
    "    target_desc = target_info[5].lower().split(\" \")\n",
    "    target_desc_stop_words =  [token for token in target_desc if token in stpwds]\n",
    "    target_desc = [token for token in target_desc if token not in stpwds]\n",
    "    target_desc = [stemmer.stem(token) for token in target_desc]\n",
    "    \n",
    "    \n",
    "    # New features\n",
    "    title_diff_count.append(abs(len(source_title) - len(target_title)))\n",
    "    desc_diff_count.append(abs(len(source_desc) - len(target_desc)))\n",
    "    desc_diff_charac_count.append(abs(len(source_info[5]) - len(target_info[5])))\n",
    "    \n",
    "    try:\n",
    "        source_average_lenght_desc = sum(len(token) for token in source_desc)/len(source_desc)\n",
    "    except ZeroDivisionError:\n",
    "        source_average_lenght_desc = 0\n",
    "    try:\n",
    "        target_average_lenght_desc = sum(len(token) for token in target_desc)/len(target_desc)\n",
    "    except ZeroDivisionError:\n",
    "        target_average_lenght_desc = 0\n",
    "    desc_diff_average_lenght.append(abs(source_average_lenght_desc - target_average_lenght_desc))\n",
    "    \n",
    "    try:\n",
    "        source_average_lenght_title = sum(len(token) for token in source_title)/len(source_title)\n",
    "    except ZeroDivisionError:\n",
    "        source_average_lenght_title = 0\n",
    "    try:\n",
    "        target_average_lenght_title = sum(len(token) for token in target_title)/len(target_title)\n",
    "    except ZeroDivisionError:\n",
    "        target_average_lenght_title = 0\n",
    "    title_diff_average_lenght.append(abs(source_average_lenght_title - target_average_lenght_title))\n",
    "    \n",
    "    desc_diff_stop_words.append(abs(len(source_desc_stop_words) - len(target_desc_stop_words)))\n",
    "    \n",
    "    \n",
    "    source_auth = source_info[3].split(\",\")\n",
    "    target_auth = target_info[3].split(\",\")\n",
    "    \n",
    "    number_author_source.append(len(source_auth))\n",
    "    number_author_target.append(len(target_auth))\n",
    "    \n",
    "    overlap_title.append(len(set(source_title).intersection(set(target_title))))\n",
    "    temp_diff.append(int(source_info[1]) - int(target_info[1]))\n",
    "    comm_auth.append(len(set(source_auth).intersection(set(target_auth))))\n",
    "    \n",
    "    overlap_desc.append(len(set(target_desc).intersection(set(source_desc))))\n",
    "    \n",
    "    counter += 1\n",
    "    if counter % 1000 == True:\n",
    "        print (counter, \"training examples processsed\")\n"
   ]
  },
  {
   "cell_type": "code",
   "execution_count": 76,
   "metadata": {
    "collapsed": true
   },
   "outputs": [],
   "source": [
    "# convert list of lists into array\n",
    "# documents as rows, unique words as columns (i.e., example as rows, features as columns)\n",
    "features_total = [overlap_title, temp_diff, comm_auth, overlap_desc,\n",
    "                  number_author_source, number_author_target, title_diff_count, desc_diff_count,\n",
    "                  desc_diff_charac_count, desc_diff_average_lenght, title_diff_average_lenght, desc_diff_stop_words,\n",
    "                  in_degree_x, in_degree_y, out_degree_x, out_degree_y,\n",
    "                  comm_successors, comm_predecessors,\n",
    "                  pref_attachment, jaccard_coefficients, adamic_adar_indexes]\n",
    "\n",
    "training_features = np.array(features_total).T"
   ]
  },
  {
   "cell_type": "code",
   "execution_count": 77,
   "metadata": {
    "collapsed": true
   },
   "outputs": [],
   "source": [
    "# scale\n",
    "training_features = preprocessing.scale(training_features)"
   ]
  },
  {
   "cell_type": "code",
   "execution_count": 78,
   "metadata": {
    "collapsed": true
   },
   "outputs": [],
   "source": [
    "# Save features\n",
    "features_dataframe = pd.DataFrame(training_features, columns=['overlap_title', 'temp_diff', 'comm_auth', 'overlap_desc', \n",
    "                                                              'number_author_source', 'number_author_target', 'title_diff_count',\n",
    "                                                              'desc_diff_count','desc_diff_charac_count', 'desc_diff_average_lenght', \n",
    "                                                              'title_diff_average_lenght', 'desc_diff_stop_words',\n",
    "                                                              'in_degree_x', 'in_degree_y', 'out_degree_x', 'out_degree_y',\n",
    "                                                              'comm_successors', 'comm_predecessors',\n",
    "                                                              'pref_attachment', 'jaccard_coefficients', 'adamic_adar_indexes'])\n",
    "features_dataframe.to_csv('features_train_5.csv', sep=',', index=False)"
   ]
  },
  {
   "cell_type": "markdown",
   "metadata": {},
   "source": [
    "## Generate test features"
   ]
  },
  {
   "cell_type": "code",
   "execution_count": 20,
   "metadata": {
    "collapsed": true
   },
   "outputs": [
    {
     "name": "stdout",
     "output_type": "stream",
     "text": [
      "1 testing examples processsed\n",
      "1001 testing examples processsed\n",
      "2001 testing examples processsed\n",
      "3001 testing examples processsed\n",
      "4001 testing examples processsed\n",
      "5001 testing examples processsed\n",
      "6001 testing examples processsed\n",
      "7001 testing examples processsed\n",
      "8001 testing examples processsed\n",
      "9001 testing examples processsed\n",
      "10001 testing examples processsed\n",
      "11001 testing examples processsed\n",
      "12001 testing examples processsed\n",
      "13001 testing examples processsed\n",
      "14001 testing examples processsed\n",
      "15001 testing examples processsed\n",
      "16001 testing examples processsed\n",
      "17001 testing examples processsed\n",
      "18001 testing examples processsed\n",
      "19001 testing examples processsed\n",
      "20001 testing examples processsed\n",
      "21001 testing examples processsed\n",
      "22001 testing examples processsed\n",
      "23001 testing examples processsed\n",
      "24001 testing examples processsed\n",
      "25001 testing examples processsed\n",
      "26001 testing examples processsed\n",
      "27001 testing examples processsed\n",
      "28001 testing examples processsed\n",
      "29001 testing examples processsed\n",
      "30001 testing examples processsed\n",
      "31001 testing examples processsed\n",
      "32001 testing examples processsed\n"
     ]
    }
   ],
   "source": [
    "# Features extraction\n",
    "\n",
    "# number of overlapping words in title\n",
    "overlap_title = []\n",
    "\n",
    "# temporal distance between the papers\n",
    "temp_diff = []\n",
    "\n",
    "# number of common authors\n",
    "comm_auth = []\n",
    "\n",
    "# number of common words in description\n",
    "overlap_desc = []\n",
    "\n",
    "# number of authors\n",
    "number_author_source = []\n",
    "number_author_target = []\n",
    "\n",
    "# Difference between number of words [Title]\n",
    "title_diff_count = []\n",
    "\n",
    "# Difference between number of words [Description]\n",
    "desc_diff_count = []\n",
    "\n",
    "# Difference number of characters [Description]\n",
    "desc_diff_charac_count = []\n",
    "\n",
    "# Difference Average Word Length [Description]\n",
    "desc_diff_average_lenght = []\n",
    "\n",
    "# Difference Average Word Length [Title]\n",
    "title_diff_average_lenght = []\n",
    "\n",
    "# Difference number of stop words [Description]\n",
    "desc_diff_stop_words = []\n",
    "\n",
    "### Directed Graph ###\n",
    "# In-degree for x\n",
    "in_degree_x = []\n",
    "\n",
    "# In-degree for y\n",
    "in_degree_y = []\n",
    "\n",
    "# Out-degree for x\n",
    "out_degree_x = []\n",
    "\n",
    "# Out-degree for y\n",
    "out_degree_y = []\n",
    "\n",
    "# Common neighbors\n",
    "comm_successors = []\n",
    "\n",
    "# Common predecessors\n",
    "comm_predecessors = []\n",
    "\n",
    "# page rank x\n",
    "page_rank_x = []  # TODO\n",
    "\n",
    "# page rank y\n",
    "page_rank_y = []  # TODO\n",
    "\n",
    "### Undirected Graph ###\n",
    "# Preferential Attachment\n",
    "pref_attachment = []\n",
    "\n",
    "# Jaccard Coefficients\n",
    "jaccard_coefficients = []\n",
    "\n",
    "# adamic adar indexes\n",
    "adamic_adar_indexes = []\n",
    "\n",
    "\n",
    "counter = 0\n",
    "for i in range(len(testing_set)):   #len(training_set_reduced)\n",
    "    source = testing_set[i][0]\n",
    "    target = testing_set[i][1]\n",
    "    \n",
    "    # Graph features\n",
    "    \n",
    "    # Directed graph\n",
    "    source_suc = nx_dg.successors(source)\n",
    "    target_suc = nx_dg.successors(target)\n",
    "    \n",
    "    source_pred = nx_dg.predecessors(source)\n",
    "    target_pred = nx_dg.predecessors(target)\n",
    "    \n",
    "    comm_successors.append(len(set(source_suc).intersection(set(target_suc))))\n",
    "    comm_predecessors.append(len(set(source_pred).intersection(set(target_pred))))\n",
    "    \n",
    "    in_degree_x.append(nx_dg.in_degree(source))\n",
    "    in_degree_y.append(nx_dg.in_degree(target))\n",
    "    \n",
    "    out_degree_x.append(nx_dg.out_degree(source))\n",
    "    out_degree_y.append(nx_dg.out_degree(target))\n",
    "    \n",
    "    \n",
    "    # Undirected graph\n",
    "    \n",
    "    aai = nx.adamic_adar_index(nx_g, ebunch=[(source, target)])\n",
    "    pa = nx.preferential_attachment(nx_g, ebunch=[(source, target)])\n",
    "    jc = nx.jaccard_coefficient(nx_g, ebunch=[(source, target)])\n",
    "    \n",
    "    for u, v, p in aai:\n",
    "        adamic_adar_indexes.append(p)\n",
    "    for u, v, p in pa:\n",
    "        pref_attachment.append(p)\n",
    "    for u, v, p in jc:\n",
    "        jaccard_coefficients.append(p)\n",
    "    \n",
    "    \n",
    "    ### NLP features ###\n",
    "    \n",
    "    index_source = IDs.index(source)\n",
    "    index_target = IDs.index(target)\n",
    "    \n",
    "    source_info = [element for element in node_info if element[0]==source][0]\n",
    "    target_info = [element for element in node_info if element[0]==target][0]\n",
    "    \n",
    "    # convert to lowercase and tokenize [Title]\n",
    "    source_title = source_info[2].lower().split(\" \")\n",
    "    # remove stopwords\n",
    "    source_title = [token for token in source_title if token not in stpwds]\n",
    "    source_title = [stemmer.stem(token) for token in source_title]\n",
    "    \n",
    "    target_title = target_info[2].lower().split(\" \")\n",
    "    target_title = [token for token in target_title if token not in stpwds]\n",
    "    target_title = [stemmer.stem(token) for token in target_title]\n",
    "    \n",
    "    # convert to lowercase and tokenize [Description]\n",
    "    source_desc = source_info[5].lower().split(\" \")\n",
    "    # remove stopwords\n",
    "    source_desc_stop_words =  [token for token in source_desc if token in stpwds]\n",
    "    source_desc = [token for token in source_desc if token not in stpwds]\n",
    "    source_desc = [stemmer.stem(token) for token in source_desc]\n",
    "    \n",
    "    target_desc = target_info[5].lower().split(\" \")\n",
    "    target_desc_stop_words =  [token for token in target_desc if token in stpwds]\n",
    "    target_desc = [token for token in target_desc if token not in stpwds]\n",
    "    target_desc = [stemmer.stem(token) for token in target_desc]\n",
    "    \n",
    "    \n",
    "    # New features\n",
    "    title_diff_count.append(abs(len(source_title) - len(target_title)))\n",
    "    desc_diff_count.append(abs(len(source_desc) - len(target_desc)))\n",
    "    desc_diff_charac_count.append(abs(len(source_info[5]) - len(target_info[5])))\n",
    "    \n",
    "    try:\n",
    "        source_average_lenght_desc = sum(len(token) for token in source_desc)/len(source_desc)\n",
    "    except ZeroDivisionError:\n",
    "        source_average_lenght_desc = 0\n",
    "    try:\n",
    "        target_average_lenght_desc = sum(len(token) for token in target_desc)/len(target_desc)\n",
    "    except ZeroDivisionError:\n",
    "        target_average_lenght_desc = 0\n",
    "    desc_diff_average_lenght.append(abs(source_average_lenght_desc - target_average_lenght_desc))\n",
    "    \n",
    "    try:\n",
    "        source_average_lenght_title = sum(len(token) for token in source_title)/len(source_title)\n",
    "    except ZeroDivisionError:\n",
    "        source_average_lenght_title = 0\n",
    "    try:\n",
    "        target_average_lenght_title = sum(len(token) for token in target_title)/len(target_title)\n",
    "    except ZeroDivisionError:\n",
    "        target_average_lenght_title = 0\n",
    "    title_diff_average_lenght.append(abs(source_average_lenght_title - target_average_lenght_title))\n",
    "    \n",
    "    desc_diff_stop_words.append(abs(len(source_desc_stop_words) - len(target_desc_stop_words)))\n",
    "    \n",
    "    \n",
    "    source_auth = source_info[3].split(\",\")\n",
    "    target_auth = target_info[3].split(\",\")\n",
    "    \n",
    "    number_author_source.append(len(source_auth))\n",
    "    number_author_target.append(len(target_auth))\n",
    "    \n",
    "    overlap_title.append(len(set(source_title).intersection(set(target_title))))\n",
    "    temp_diff.append(int(source_info[1]) - int(target_info[1]))\n",
    "    comm_auth.append(len(set(source_auth).intersection(set(target_auth))))\n",
    "    \n",
    "    overlap_desc.append(len(set(target_desc).intersection(set(source_desc))))\n",
    "    \n",
    "    counter += 1\n",
    "    if counter % 1000 == True:\n",
    "        print (counter, \"testing examples processsed\")\n",
    "        "
   ]
  },
  {
   "cell_type": "code",
   "execution_count": 21,
   "metadata": {
    "collapsed": true
   },
   "outputs": [],
   "source": [
    "#  title_diff_count, desc_diff_count, desc_diff_charac_count, desc_diff_average_lenght, title_diff_average_lenght, desc_diff_stop_words\n",
    "features_total = [overlap_title, temp_diff, comm_auth, overlap_desc,\n",
    "                  number_author_source, number_author_target, title_diff_count, desc_diff_count,\n",
    "                  desc_diff_charac_count, desc_diff_average_lenght, title_diff_average_lenght, desc_diff_stop_words,\n",
    "                  in_degree_x, in_degree_y, out_degree_x, out_degree_y,\n",
    "                  comm_successors, comm_predecessors,\n",
    "                  pref_attachment, jaccard_coefficients, adamic_adar_indexes]\n",
    "\n",
    "testing_features = np.array(features_total).T"
   ]
  },
  {
   "cell_type": "code",
   "execution_count": 22,
   "metadata": {
    "collapsed": true
   },
   "outputs": [],
   "source": [
    "# scale\n",
    "testing_features = preprocessing.scale(testing_features)"
   ]
  },
  {
   "cell_type": "code",
   "execution_count": 23,
   "metadata": {
    "collapsed": true
   },
   "outputs": [],
   "source": [
    "# Save features\n",
    "features_dataframe = pd.DataFrame(testing_features, columns=['overlap_title', 'temp_diff', 'comm_auth', 'overlap_desc', \n",
    "                                                              'number_author_source', 'number_author_target', 'title_diff_count',\n",
    "                                                              'desc_diff_count','desc_diff_charac_count', 'desc_diff_average_lenght', \n",
    "                                                              'title_diff_average_lenght', 'desc_diff_stop_words',\n",
    "                                                              'in_degree_x', 'in_degree_y', 'out_degree_x', 'out_degree_y',\n",
    "                                                              'comm_successors', 'comm_predecessors',\n",
    "                                                              'pref_attachment', 'jaccard_coefficients', 'adamic_adar_indexes'])\n",
    "features_dataframe.to_csv('features_test_jeudi.csv', sep=',', index=False)"
   ]
  },
  {
   "cell_type": "markdown",
   "metadata": {},
   "source": [
    "## Read features files"
   ]
  },
  {
   "cell_type": "code",
   "execution_count": 22,
   "metadata": {
    "collapsed": true
   },
   "outputs": [],
   "source": [
    "# Training features\n",
    "train_features = pd.read_csv(\"features_train_10.csv\", sep=',')\n",
    "\n",
    "# Labels\n",
    "# convert labels into integers then into column array\n",
    "labels = [int(element[2]) for element in training_set_reduced]\n",
    "labels = list(labels)\n",
    "labels_array = np.array(labels)\n",
    "\n",
    "\n",
    "# Testing features\n",
    "test_features = pd.read_csv(\"features_test_jeudi.csv\", sep=',')"
   ]
  },
  {
   "cell_type": "markdown",
   "metadata": {},
   "source": [
    "# Select features"
   ]
  },
  {
   "cell_type": "code",
   "execution_count": 63,
   "metadata": {
    "collapsed": true
   },
   "outputs": [],
   "source": [
    "new_features_train = train_features[['in_degree_x', 'out_degree_x', 'in_degree_y', 'out_degree_y',\n",
    "                           'comm_successors', 'comm_predecessors', \n",
    "                           'overlap_title', 'temp_diff', 'comm_auth', \n",
    "                           'adamic_adar_indexes', 'jaccard_coefficients', 'overlap_desc']].copy()\n",
    "new_features_test = test_features[['in_degree_x', 'out_degree_x', 'in_degree_y', 'out_degree_y', \n",
    "                                   'comm_successors', 'comm_predecessors',\n",
    "                                  'overlap_title', 'temp_diff', 'comm_auth',\n",
    "                                   'adamic_adar_indexes', 'jaccard_coefficients', 'overlap_desc']].copy()"
   ]
  },
  {
   "cell_type": "markdown",
   "metadata": {},
   "source": [
    "# Predictions"
   ]
  },
  {
   "cell_type": "code",
   "execution_count": 26,
   "metadata": {},
   "outputs": [
    {
     "data": {
      "image/png": "[encoded data removed]",
      "text/plain": [
       "<Figure size 432x288 with 1 Axes>"
      ]
     },
     "metadata": {
      "needs_background": "light"
     },
     "output_type": "display_data"
    }
   ],
   "source": [
    "model_classic = XGBClassifier()\n",
    "model_classic.fit(new_features_train, labels_array)\n",
    "plot_importance(model_classic)\n",
    "plt.show()"
   ]
  },
  {
   "cell_type": "code",
   "execution_count": 27,
   "metadata": {
    "collapsed": true
   },
   "outputs": [],
   "source": [
    "# Predictions\n",
    "predictions = model_classic.predict(new_features_test)\n",
    "df = pd.DataFrame(np.arange(len(new_features_test)), columns=['ID'])\n",
    "df['category'] = predictions\n",
    "\n",
    "df.to_csv('new_predictions_10.csv', sep=',', index=False)"
   ]
  },
  {
   "cell_type": "markdown",
   "metadata": {},
   "source": [
    "# Ensemble model"
   ]
  },
  {
   "cell_type": "code",
   "execution_count": 31,
   "metadata": {
    "collapsed": true
   },
   "outputs": [],
   "source": [
    "# Training features\n",
    "train_features = pd.read_csv(\"features_train_10.csv\", sep=',')\n",
    "\n",
    "# Labels\n",
    "# convert labels into integers then into column array\n",
    "labels = [int(element[2]) for element in training_set_reduced]\n",
    "labels = list(labels)\n",
    "labels_array = np.array(labels)\n",
    "\n",
    "# Testing features\n",
    "test_features = pd.read_csv(\"features_test_jeudi.csv\", sep=',')"
   ]
  },
  {
   "cell_type": "code",
   "execution_count": 32,
   "metadata": {
    "collapsed": true
   },
   "outputs": [],
   "source": [
    "# Train/Test split\n",
    "X_train, X_test, y_train, y_test = train_test_split(train_features, labels_array, test_size=0.33, random_state=42)"
   ]
  },
  {
   "cell_type": "markdown",
   "metadata": {},
   "source": [
    "### Model 1: XGBClassifier on all features"
   ]
  },
  {
   "cell_type": "code",
   "execution_count": 33,
   "metadata": {
    "collapsed": true
   },
   "outputs": [],
   "source": [
    "model_1 = XGBClassifier()\n",
    "model_1.fit(X_train, y_train)\n",
    "\n",
    "# Predictions\n",
    "predictions = model_1.predict(X_test)\n",
    "df = pd.DataFrame(np.arange(len(X_test)), columns=['ID'])\n",
    "df['category'] = predictions\n",
    "\n",
    "# Generate CSV file\n",
    "df.to_csv('model_1_predictions.csv', sep=',', index=False)"
   ]
  },
  {
   "cell_type": "markdown",
   "metadata": {},
   "source": [
    "### Model 2: XGBClassifier on selected features"
   ]
  },
  {
   "cell_type": "code",
   "execution_count": 34,
   "metadata": {
    "collapsed": true
   },
   "outputs": [],
   "source": [
    "selected_X_train = X_train[['in_degree_x', 'out_degree_x', 'in_degree_y', 'out_degree_y',\n",
    "                           'comm_successors', 'comm_predecessors', \n",
    "                           'overlap_title', 'temp_diff', 'comm_auth', \n",
    "                           'adamic_adar_indexes', 'jaccard_coefficients', 'overlap_desc']].copy()\n",
    "selected_X_test = X_test[['in_degree_x', 'out_degree_x', 'in_degree_y', 'out_degree_y', \n",
    "                                   'comm_successors', 'comm_predecessors',\n",
    "                                  'overlap_title', 'temp_diff', 'comm_auth',\n",
    "                                   'adamic_adar_indexes', 'jaccard_coefficients', 'overlap_desc']].copy()"
   ]
  },
  {
   "cell_type": "code",
   "execution_count": 35,
   "metadata": {
    "collapsed": true
   },
   "outputs": [],
   "source": [
    "model_2 = XGBClassifier()\n",
    "model_2.fit(selected_X_train, y_train)\n",
    "\n",
    "# Predictions\n",
    "predictions = model_2.predict(selected_X_test)\n",
    "df = pd.DataFrame(np.arange(len(selected_X_test)), columns=['ID'])\n",
    "df['category'] = predictions\n",
    "\n",
    "# Generate CSV file\n",
    "df.to_csv('model_2_predictions.csv', sep=',', index=False)"
   ]
  },
  {
   "cell_type": "markdown",
   "metadata": {},
   "source": [
    "### Model 3: XgBoost chosen parameters"
   ]
  },
  {
   "cell_type": "code",
   "execution_count": 36,
   "metadata": {
    "collapsed": true
   },
   "outputs": [],
   "source": [
    "# XgBoost model\n",
    "dtrain = xgb.DMatrix(X_train, label=y_train)\n",
    "param = {'max_depth':10, 'num_class':5, 'eta': 0.3, 'silent': 1, 'objective': 'multi:softmax'}\n",
    "num_round = 20\n",
    "\n",
    "# Training the model\n",
    "model_3 = xgb.train(param, dtrain, num_round)\n",
    "\n",
    "# Generate predictions\n",
    "dtest = xgb.DMatrix(X_test)\n",
    "predictions_3 = model_3.predict(dtest).astype('int')\n",
    "df = pd.DataFrame(np.arange(len(X_test)), columns=['ID'])\n",
    "df['category'] = predictions_3\n",
    "\n",
    "# Generate CSV file\n",
    "df.to_csv('model_3_predictions.csv', sep=',', index=False)"
   ]
  },
  {
   "cell_type": "markdown",
   "metadata": {},
   "source": [
    "### Model 4: Random Forest Classifier "
   ]
  },
  {
   "cell_type": "code",
   "execution_count": 37,
   "metadata": {
    "collapsed": true
   },
   "outputs": [],
   "source": [
    "model_4 = RandomForestClassifier(n_estimators=10, max_depth=5, random_state=0)\n",
    "model_4.fit(X_train, y_train)\n",
    "\n",
    "# Predictions\n",
    "predictions_4 = model_4.predict(X_test)\n",
    "df = pd.DataFrame(np.arange(len(X_test)), columns=['ID'])\n",
    "df['category'] = predictions_4\n",
    "\n",
    "# Generate CSV file\n",
    "df.to_csv('model_4_predictions.csv', sep=',', index=False)"
   ]
  },
  {
   "cell_type": "markdown",
   "metadata": {},
   "source": [
    "### Model 5: Random Forest Classifier Selected Features"
   ]
  },
  {
   "cell_type": "code",
   "execution_count": 38,
   "metadata": {
    "collapsed": true
   },
   "outputs": [],
   "source": [
    "model_5 = RandomForestClassifier(n_estimators=10, max_depth=5, random_state=0)\n",
    "model_5.fit(selected_X_train, y_train)\n",
    "\n",
    "# Predictions\n",
    "predictions_5 = model_5.predict(selected_X_test)\n",
    "df = pd.DataFrame(np.arange(len(selected_X_test)), columns=['ID'])\n",
    "df['category'] = predictions_5\n",
    "\n",
    "# Generate CSV file\n",
    "df.to_csv('model_5_predictions.csv', sep=',', index=False)"
   ]
  },
  {
   "cell_type": "markdown",
   "metadata": {},
   "source": [
    "## Ensemble model"
   ]
  },
  {
   "cell_type": "code",
   "execution_count": 40,
   "metadata": {},
   "outputs": [
    {
     "data": {
      "text/plain": [
       "['model_1_predictions.csv',\n",
       " 'model_2_predictions.csv',\n",
       " 'model_3_predictions.csv',\n",
       " 'model_4_predictions.csv',\n",
       " 'model_5_predictions.csv']"
      ]
     },
     "execution_count": 40,
     "metadata": {},
     "output_type": "execute_result"
    }
   ],
   "source": [
    "results_path = r\"C:\\Users\\Driss Debbagh\\Desktop\\Cours 3A\\NGSA\\Assignments\\Assignment_2\\all\\results_train\"\n",
    "results_files = [f for f in listdir(results_path) if isfile(join(results_path, f))]\n",
    "results_files"
   ]
  },
  {
   "cell_type": "code",
   "execution_count": 45,
   "metadata": {},
   "outputs": [
    {
     "data": {
      "text/html": [
       "<div>\n",
       "<style scoped>\n",
       "    .dataframe tbody tr th:only-of-type {\n",
       "        vertical-align: middle;\n",
       "    }\n",
       "\n",
       "    .dataframe tbody tr th {\n",
       "        vertical-align: top;\n",
       "    }\n",
       "\n",
       "    .dataframe thead th {\n",
       "        text-align: right;\n",
       "    }\n",
       "</style>\n",
       "<table border=\"1\" class=\"dataframe\">\n",
       "  <thead>\n",
       "    <tr style=\"text-align: right;\">\n",
       "      <th></th>\n",
       "      <th>results0</th>\n",
       "      <th>results1</th>\n",
       "      <th>results2</th>\n",
       "      <th>results3</th>\n",
       "      <th>results4</th>\n",
       "    </tr>\n",
       "  </thead>\n",
       "  <tbody>\n",
       "    <tr>\n",
       "      <th>0</th>\n",
       "      <td>1</td>\n",
       "      <td>1</td>\n",
       "      <td>1</td>\n",
       "      <td>1</td>\n",
       "      <td>1</td>\n",
       "    </tr>\n",
       "    <tr>\n",
       "      <th>1</th>\n",
       "      <td>0</td>\n",
       "      <td>0</td>\n",
       "      <td>0</td>\n",
       "      <td>0</td>\n",
       "      <td>0</td>\n",
       "    </tr>\n",
       "    <tr>\n",
       "      <th>2</th>\n",
       "      <td>1</td>\n",
       "      <td>1</td>\n",
       "      <td>1</td>\n",
       "      <td>1</td>\n",
       "      <td>1</td>\n",
       "    </tr>\n",
       "    <tr>\n",
       "      <th>3</th>\n",
       "      <td>1</td>\n",
       "      <td>1</td>\n",
       "      <td>1</td>\n",
       "      <td>1</td>\n",
       "      <td>1</td>\n",
       "    </tr>\n",
       "    <tr>\n",
       "      <th>4</th>\n",
       "      <td>1</td>\n",
       "      <td>1</td>\n",
       "      <td>1</td>\n",
       "      <td>1</td>\n",
       "      <td>1</td>\n",
       "    </tr>\n",
       "  </tbody>\n",
       "</table>\n",
       "</div>"
      ],
      "text/plain": [
       "   results0  results1  results2  results3  results4\n",
       "0         1         1         1         1         1\n",
       "1         0         0         0         0         0\n",
       "2         1         1         1         1         1\n",
       "3         1         1         1         1         1\n",
       "4         1         1         1         1         1"
      ]
     },
     "execution_count": 45,
     "metadata": {},
     "output_type": "execute_result"
    }
   ],
   "source": [
    "results_dataframe = pd.DataFrame()\n",
    "for i, file in enumerate(results_files):\n",
    "    csv_dataframe = pd.read_csv(\"results_train/\" + file, sep=',')\n",
    "    results_dataframe['results' + str(i)] = csv_dataframe['category']\n",
    "\n",
    "results_dataframe.head()"
   ]
  },
  {
   "cell_type": "code",
   "execution_count": 47,
   "metadata": {},
   "outputs": [
    {
     "data": {
      "text/html": [
       "<div>\n",
       "<style scoped>\n",
       "    .dataframe tbody tr th:only-of-type {\n",
       "        vertical-align: middle;\n",
       "    }\n",
       "\n",
       "    .dataframe tbody tr th {\n",
       "        vertical-align: top;\n",
       "    }\n",
       "\n",
       "    .dataframe thead th {\n",
       "        text-align: right;\n",
       "    }\n",
       "</style>\n",
       "<table border=\"1\" class=\"dataframe\">\n",
       "  <thead>\n",
       "    <tr style=\"text-align: right;\">\n",
       "      <th></th>\n",
       "      <th>results0</th>\n",
       "      <th>results1</th>\n",
       "      <th>results2</th>\n",
       "      <th>results3</th>\n",
       "      <th>results4</th>\n",
       "    </tr>\n",
       "  </thead>\n",
       "  <tbody>\n",
       "    <tr>\n",
       "      <th>count</th>\n",
       "      <td>20312.000000</td>\n",
       "      <td>20312.000000</td>\n",
       "      <td>20312.000000</td>\n",
       "      <td>20312.000000</td>\n",
       "      <td>20312.000000</td>\n",
       "    </tr>\n",
       "    <tr>\n",
       "      <th>mean</th>\n",
       "      <td>0.527668</td>\n",
       "      <td>0.528210</td>\n",
       "      <td>0.530032</td>\n",
       "      <td>0.522597</td>\n",
       "      <td>0.520136</td>\n",
       "    </tr>\n",
       "    <tr>\n",
       "      <th>std</th>\n",
       "      <td>0.499246</td>\n",
       "      <td>0.499216</td>\n",
       "      <td>0.499110</td>\n",
       "      <td>0.499501</td>\n",
       "      <td>0.499607</td>\n",
       "    </tr>\n",
       "    <tr>\n",
       "      <th>min</th>\n",
       "      <td>0.000000</td>\n",
       "      <td>0.000000</td>\n",
       "      <td>0.000000</td>\n",
       "      <td>0.000000</td>\n",
       "      <td>0.000000</td>\n",
       "    </tr>\n",
       "    <tr>\n",
       "      <th>25%</th>\n",
       "      <td>0.000000</td>\n",
       "      <td>0.000000</td>\n",
       "      <td>0.000000</td>\n",
       "      <td>0.000000</td>\n",
       "      <td>0.000000</td>\n",
       "    </tr>\n",
       "    <tr>\n",
       "      <th>50%</th>\n",
       "      <td>1.000000</td>\n",
       "      <td>1.000000</td>\n",
       "      <td>1.000000</td>\n",
       "      <td>1.000000</td>\n",
       "      <td>1.000000</td>\n",
       "    </tr>\n",
       "    <tr>\n",
       "      <th>75%</th>\n",
       "      <td>1.000000</td>\n",
       "      <td>1.000000</td>\n",
       "      <td>1.000000</td>\n",
       "      <td>1.000000</td>\n",
       "      <td>1.000000</td>\n",
       "    </tr>\n",
       "    <tr>\n",
       "      <th>max</th>\n",
       "      <td>1.000000</td>\n",
       "      <td>1.000000</td>\n",
       "      <td>1.000000</td>\n",
       "      <td>1.000000</td>\n",
       "      <td>1.000000</td>\n",
       "    </tr>\n",
       "  </tbody>\n",
       "</table>\n",
       "</div>"
      ],
      "text/plain": [
       "           results0      results1      results2      results3      results4\n",
       "count  20312.000000  20312.000000  20312.000000  20312.000000  20312.000000\n",
       "mean       0.527668      0.528210      0.530032      0.522597      0.520136\n",
       "std        0.499246      0.499216      0.499110      0.499501      0.499607\n",
       "min        0.000000      0.000000      0.000000      0.000000      0.000000\n",
       "25%        0.000000      0.000000      0.000000      0.000000      0.000000\n",
       "50%        1.000000      1.000000      1.000000      1.000000      1.000000\n",
       "75%        1.000000      1.000000      1.000000      1.000000      1.000000\n",
       "max        1.000000      1.000000      1.000000      1.000000      1.000000"
      ]
     },
     "execution_count": 47,
     "metadata": {},
     "output_type": "execute_result"
    }
   ],
   "source": [
    "results_dataframe.describe()"
   ]
  },
  {
   "cell_type": "markdown",
   "metadata": {},
   "source": [
    "## Simple classification model"
   ]
  },
  {
   "cell_type": "code",
   "execution_count": 57,
   "metadata": {},
   "outputs": [
    {
     "name": "stdout",
     "output_type": "stream",
     "text": [
      "Optimization terminated successfully.\n",
      "         Current function value: 0.365001\n",
      "         Iterations 8\n"
     ]
    }
   ],
   "source": [
    "# Logistic regression\n",
    "ensemble_model = sm.Logit(y_test, results_dataframe)\n",
    "\n",
    "# fit the model\n",
    "result = ensemble_model.fit()"
   ]
  },
  {
   "cell_type": "code",
   "execution_count": 58,
   "metadata": {},
   "outputs": [
    {
     "data": {
      "text/html": [
       "<table class=\"simpletable\">\n",
       "<caption>Logit Regression Results</caption>\n",
       "<tr>\n",
       "  <th>Dep. Variable:</th>         <td>y</td>        <th>  No. Observations:  </th>  <td> 20312</td> \n",
       "</tr>\n",
       "<tr>\n",
       "  <th>Model:</th>               <td>Logit</td>      <th>  Df Residuals:      </th>  <td> 20307</td> \n",
       "</tr>\n",
       "<tr>\n",
       "  <th>Method:</th>               <td>MLE</td>       <th>  Df Model:          </th>  <td>     4</td> \n",
       "</tr>\n",
       "<tr>\n",
       "  <th>Date:</th>          <td>Sat, 12 Jan 2019</td> <th>  Pseudo R-squ.:     </th>  <td>0.4706</td> \n",
       "</tr>\n",
       "<tr>\n",
       "  <th>Time:</th>              <td>11:54:15</td>     <th>  Log-Likelihood:    </th> <td> -7413.9</td>\n",
       "</tr>\n",
       "<tr>\n",
       "  <th>converged:</th>           <td>True</td>       <th>  LL-Null:           </th> <td> -14004.</td>\n",
       "</tr>\n",
       "<tr>\n",
       "  <th> </th>                      <td> </td>        <th>  LLR p-value:       </th>  <td> 0.000</td> \n",
       "</tr>\n",
       "</table>\n",
       "<table class=\"simpletable\">\n",
       "<tr>\n",
       "      <td></td>        <th>coef</th>     <th>std err</th>      <th>z</th>      <th>P>|z|</th>  <th>[0.025</th>    <th>0.975]</th>  \n",
       "</tr>\n",
       "<tr>\n",
       "  <th>results0</th> <td>    1.8485</td> <td>    0.551</td> <td>    3.353</td> <td> 0.001</td> <td>    0.768</td> <td>    2.929</td>\n",
       "</tr>\n",
       "<tr>\n",
       "  <th>results1</th> <td>    0.0663</td> <td>    0.527</td> <td>    0.126</td> <td> 0.900</td> <td>   -0.966</td> <td>    1.099</td>\n",
       "</tr>\n",
       "<tr>\n",
       "  <th>results2</th> <td>    1.1847</td> <td>    0.218</td> <td>    5.433</td> <td> 0.000</td> <td>    0.757</td> <td>    1.612</td>\n",
       "</tr>\n",
       "<tr>\n",
       "  <th>results3</th> <td>   -1.0876</td> <td>    0.275</td> <td>   -3.948</td> <td> 0.000</td> <td>   -1.628</td> <td>   -0.548</td>\n",
       "</tr>\n",
       "<tr>\n",
       "  <th>results4</th> <td>    2.2806</td> <td>    0.363</td> <td>    6.282</td> <td> 0.000</td> <td>    1.569</td> <td>    2.992</td>\n",
       "</tr>\n",
       "</table>"
      ],
      "text/plain": [
       "<class 'statsmodels.iolib.summary.Summary'>\n",
       "\"\"\"\n",
       "                           Logit Regression Results                           \n",
       "==============================================================================\n",
       "Dep. Variable:                      y   No. Observations:                20312\n",
       "Model:                          Logit   Df Residuals:                    20307\n",
       "Method:                           MLE   Df Model:                            4\n",
       "Date:                Sat, 12 Jan 2019   Pseudo R-squ.:                  0.4706\n",
       "Time:                        11:54:15   Log-Likelihood:                -7413.9\n",
       "converged:                       True   LL-Null:                       -14004.\n",
       "                                        LLR p-value:                     0.000\n",
       "==============================================================================\n",
       "                 coef    std err          z      P>|z|      [0.025      0.975]\n",
       "------------------------------------------------------------------------------\n",
       "results0       1.8485      0.551      3.353      0.001       0.768       2.929\n",
       "results1       0.0663      0.527      0.126      0.900      -0.966       1.099\n",
       "results2       1.1847      0.218      5.433      0.000       0.757       1.612\n",
       "results3      -1.0876      0.275     -3.948      0.000      -1.628      -0.548\n",
       "results4       2.2806      0.363      6.282      0.000       1.569       2.992\n",
       "==============================================================================\n",
       "\"\"\""
      ]
     },
     "execution_count": 58,
     "metadata": {},
     "output_type": "execute_result"
    }
   ],
   "source": [
    "result.summary()"
   ]
  },
  {
   "cell_type": "code",
   "execution_count": 54,
   "metadata": {},
   "outputs": [
    {
     "data": {
      "text/html": [
       "<div>\n",
       "<style scoped>\n",
       "    .dataframe tbody tr th:only-of-type {\n",
       "        vertical-align: middle;\n",
       "    }\n",
       "\n",
       "    .dataframe tbody tr th {\n",
       "        vertical-align: top;\n",
       "    }\n",
       "\n",
       "    .dataframe thead th {\n",
       "        text-align: right;\n",
       "    }\n",
       "</style>\n",
       "<table border=\"1\" class=\"dataframe\">\n",
       "  <thead>\n",
       "    <tr style=\"text-align: right;\">\n",
       "      <th></th>\n",
       "      <th>0</th>\n",
       "      <th>1</th>\n",
       "    </tr>\n",
       "  </thead>\n",
       "  <tbody>\n",
       "    <tr>\n",
       "      <th>results1</th>\n",
       "      <td>1.042700</td>\n",
       "      <td>2.174638</td>\n",
       "    </tr>\n",
       "    <tr>\n",
       "      <th>results2</th>\n",
       "      <td>0.846032</td>\n",
       "      <td>1.698703</td>\n",
       "    </tr>\n",
       "    <tr>\n",
       "      <th>results3</th>\n",
       "      <td>-1.637929</td>\n",
       "      <td>-0.564874</td>\n",
       "    </tr>\n",
       "    <tr>\n",
       "      <th>results4</th>\n",
       "      <td>1.818885</td>\n",
       "      <td>3.191820</td>\n",
       "    </tr>\n",
       "  </tbody>\n",
       "</table>\n",
       "</div>"
      ],
      "text/plain": [
       "                 0         1\n",
       "results1  1.042700  2.174638\n",
       "results2  0.846032  1.698703\n",
       "results3 -1.637929 -0.564874\n",
       "results4  1.818885  3.191820"
      ]
     },
     "execution_count": 54,
     "metadata": {},
     "output_type": "execute_result"
    }
   ],
   "source": [
    "result.conf_int()"
   ]
  },
  {
   "cell_type": "code",
   "execution_count": 60,
   "metadata": {},
   "outputs": [
    {
     "name": "stderr",
     "output_type": "stream",
     "text": [
      "C:\\Users\\Driss Debbagh\\Anaconda3\\lib\\site-packages\\sklearn\\linear_model\\logistic.py:433: FutureWarning: Default solver will be changed to 'lbfgs' in 0.22. Specify a solver to silence this warning.\n",
      "  FutureWarning)\n"
     ]
    },
    {
     "data": {
      "text/plain": [
       "array([[1.45658486, 0.96159482, 3.22260974, 1.371922  , 0.6119    ]])"
      ]
     },
     "execution_count": 60,
     "metadata": {},
     "output_type": "execute_result"
    }
   ],
   "source": [
    "ensemble_model_2 = LogisticRegression().fit(results_dataframe, y_test)\n",
    "# ensemble_model_2.predict()\n",
    "ensemble_model_2.coef_ "
   ]
  },
  {
   "cell_type": "code",
   "execution_count": 69,
   "metadata": {
    "collapsed": true
   },
   "outputs": [],
   "source": [
    "predictions_model_1 = model_1.predict(test_features)\n",
    "\n",
    "predictions_model_2 = model_2.predict(new_features_test)\n",
    "\n",
    "dtest = xgb.DMatrix(test_features)\n",
    "predictions_model_3 = model_3.predict(dtest).astype('int')\n",
    "\n",
    "predictions_model_4 = model_4.predict(test_features)\n",
    "\n",
    "predictions_model_5 = model_5.predict(new_features_test)\n",
    "\n",
    "all_predictions = [predictions_model_1, predictions_model_2, predictions_model_3, predictions_model_4, predictions_model_5]"
   ]
  },
  {
   "cell_type": "code",
   "execution_count": 70,
   "metadata": {},
   "outputs": [
    {
     "data": {
      "text/html": [
       "<div>\n",
       "<style scoped>\n",
       "    .dataframe tbody tr th:only-of-type {\n",
       "        vertical-align: middle;\n",
       "    }\n",
       "\n",
       "    .dataframe tbody tr th {\n",
       "        vertical-align: top;\n",
       "    }\n",
       "\n",
       "    .dataframe thead th {\n",
       "        text-align: right;\n",
       "    }\n",
       "</style>\n",
       "<table border=\"1\" class=\"dataframe\">\n",
       "  <thead>\n",
       "    <tr style=\"text-align: right;\">\n",
       "      <th></th>\n",
       "      <th>results0</th>\n",
       "      <th>results1</th>\n",
       "      <th>results2</th>\n",
       "      <th>results3</th>\n",
       "      <th>results4</th>\n",
       "    </tr>\n",
       "  </thead>\n",
       "  <tbody>\n",
       "    <tr>\n",
       "      <th>0</th>\n",
       "      <td>0</td>\n",
       "      <td>0</td>\n",
       "      <td>0</td>\n",
       "      <td>0</td>\n",
       "      <td>0</td>\n",
       "    </tr>\n",
       "    <tr>\n",
       "      <th>1</th>\n",
       "      <td>1</td>\n",
       "      <td>1</td>\n",
       "      <td>1</td>\n",
       "      <td>1</td>\n",
       "      <td>1</td>\n",
       "    </tr>\n",
       "    <tr>\n",
       "      <th>2</th>\n",
       "      <td>1</td>\n",
       "      <td>1</td>\n",
       "      <td>1</td>\n",
       "      <td>1</td>\n",
       "      <td>1</td>\n",
       "    </tr>\n",
       "    <tr>\n",
       "      <th>3</th>\n",
       "      <td>1</td>\n",
       "      <td>1</td>\n",
       "      <td>1</td>\n",
       "      <td>1</td>\n",
       "      <td>1</td>\n",
       "    </tr>\n",
       "    <tr>\n",
       "      <th>4</th>\n",
       "      <td>0</td>\n",
       "      <td>0</td>\n",
       "      <td>1</td>\n",
       "      <td>0</td>\n",
       "      <td>1</td>\n",
       "    </tr>\n",
       "  </tbody>\n",
       "</table>\n",
       "</div>"
      ],
      "text/plain": [
       "   results0  results1  results2  results3  results4\n",
       "0         0         0         0         0         0\n",
       "1         1         1         1         1         1\n",
       "2         1         1         1         1         1\n",
       "3         1         1         1         1         1\n",
       "4         0         0         1         0         1"
      ]
     },
     "execution_count": 70,
     "metadata": {},
     "output_type": "execute_result"
    }
   ],
   "source": [
    "last_dataframe = pd.DataFrame()\n",
    "for i in range(5):\n",
    "    last_dataframe['results' + str(i)] = all_predictions[i]\n",
    "last_dataframe.head()"
   ]
  },
  {
   "cell_type": "code",
   "execution_count": 71,
   "metadata": {
    "collapsed": true
   },
   "outputs": [],
   "source": [
    "# Predictions\n",
    "last_predictions = ensemble_model_2.predict(last_dataframe)\n",
    "df = pd.DataFrame(np.arange(len(test_features)), columns=['ID'])\n",
    "df['category'] = last_predictions\n",
    "\n",
    "# Generate CSV file\n",
    "df.to_csv('model_ensemble_predictions.csv', sep=',', index=False)"
   ]
  }
 ],
 "metadata": {
  "kernelspec": {
   "display_name": "Python 3",
   "language": "python",
   "name": "python3"
  },
  "language_info": {
   "codemirror_mode": {
    "name": "ipython",
    "version": 3
   },
   "file_extension": ".py",
   "mimetype": "text/x-python",
   "name": "python",
   "nbconvert_exporter": "python",
   "pygments_lexer": "ipython3",
   "version": "3.6.8"
  }
 },
 "nbformat": 4,
 "nbformat_minor": 2
}
